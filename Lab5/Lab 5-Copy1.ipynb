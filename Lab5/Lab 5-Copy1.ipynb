{
 "cells": [
  {
   "cell_type": "code",
   "execution_count": 2,
   "id": "4dc967b1",
   "metadata": {},
   "outputs": [
    {
     "name": "stdout",
     "output_type": "stream",
     "text": [
      "Enter a number to count to: 3\n",
      "1\n",
      "2\n",
      "3\n"
     ]
    }
   ],
   "source": [
    "#Q1\n",
    "def count(n):\n",
    "    for i in range(1, n + 1):\n",
    "        print(i)\n",
    "\n",
    "# Example usage:\n",
    "number = int(input(\"Enter a number to count to: \"))  \n",
    "count(number)\n",
    "\n",
    "    "
   ]
  },
  {
   "cell_type": "code",
   "execution_count": 4,
   "id": "13e94bcb",
   "metadata": {},
   "outputs": [
    {
     "name": "stdout",
     "output_type": "stream",
     "text": [
      "Enter a number: 3\n",
      "1  is odd\n",
      "2  is even\n",
      "3  is odd\n"
     ]
    }
   ],
   "source": [
    "#Q2\n",
    "def oddEven(n):\n",
    "    for i in range(0, n+1):\n",
    "        if i % 2 == 0:\n",
    "            print(i,\" is even\")\n",
    "        else:\n",
    "            print(i,\" is odd\")\n",
    "number = int(input(\"Enter a number: \"))\n",
    "oddEven(number)\n",
    "            "
   ]
  },
  {
   "cell_type": "code",
   "execution_count": 6,
   "id": "17a45e38",
   "metadata": {},
   "outputs": [
    {
     "name": "stdout",
     "output_type": "stream",
     "text": [
      "Enter a number: 3\n",
      "0 * 9 =  0\n",
      "1 * 9 =  9\n",
      "2 * 9 =  18\n",
      "3 * 9 =  27\n"
     ]
    }
   ],
   "source": [
    "#Q3\n",
    "def multiplyNine(n):\n",
    "    for i in range(0,n+1):\n",
    "        print(i,\"* 9 = \",i*9)\n",
    "      \n",
    "        \n",
    "       \n",
    "number = int(input(\"Enter a number: \"))\n",
    "multiplyNine(number)\n"
   ]
  },
  {
   "cell_type": "code",
   "execution_count": 16,
   "id": "1d9bac69",
   "metadata": {},
   "outputs": [
    {
     "name": "stdout",
     "output_type": "stream",
     "text": [
      "Enter a number: 4\n",
      "The sum of all numbers from the number you entered is:  10\n"
     ]
    }
   ],
   "source": [
    "#Q4\n",
    "def sum(n):\n",
    "    total = 0\n",
    "    for i in range(1,n+1):\n",
    "        total = total + i\n",
    "        \n",
    "    print(\"The sum of all numbers from the number you entered is: \", total)\n",
    "        \n",
    "       \n",
    "number = int(input(\"Enter a number: \"))\n",
    "sum(number)"
   ]
  },
  {
   "cell_type": "code",
   "execution_count": 18,
   "id": "a11b6352",
   "metadata": {},
   "outputs": [
    {
     "name": "stdout",
     "output_type": "stream",
     "text": [
      "Enter a number: 5\n"
     ]
    },
    {
     "data": {
      "text/plain": [
       "120"
      ]
     },
     "execution_count": 18,
     "metadata": {},
     "output_type": "execute_result"
    }
   ],
   "source": [
    "#Q5\n",
    "def factorial(n):\n",
    "    if n == 0:\n",
    "        return 1\n",
    "    else:\n",
    "        return n * factorial(n - 1)\n",
    "    \n",
    "number = int(input(\"Enter a number: \"))\n",
    "factorial(number)\n",
    "\n"
   ]
  },
  {
   "cell_type": "code",
   "execution_count": 23,
   "id": "e1f11cd1",
   "metadata": {},
   "outputs": [
    {
     "name": "stdout",
     "output_type": "stream",
     "text": [
      "Enter a string: hello\n",
      "First and last 2 characters: helo\n"
     ]
    }
   ],
   "source": [
    "#Q6\n",
    "def f2L2(word):\n",
    "    if len(word) >= 4:\n",
    "        print(\"First and last 2 characters:\", word[:2]+word[-2:])\n",
    "    else:\n",
    "        print(word)\n",
    "\n",
    "message = input(\"Enter a string: \")\n",
    "f2L2(message)\n"
   ]
  },
  {
   "cell_type": "code",
   "execution_count": 3,
   "id": "a88a6f82",
   "metadata": {},
   "outputs": [
    {
     "name": "stdout",
     "output_type": "stream",
     "text": [
      "Enter a string: word\n"
     ]
    },
    {
     "data": {
      "text/plain": [
       "'wr'"
      ]
     },
     "execution_count": 3,
     "metadata": {},
     "output_type": "execute_result"
    }
   ],
   "source": [
    "#Q7\n",
    "def remove(word):\n",
    "    result = \"\"\n",
    "    for i in range(len(word)):\n",
    "        if i % 2 == 0:\n",
    "            result += word[i]\n",
    "    return result\n",
    "\n",
    "message = input(\"Enter a string: \")\n",
    "result = remove(message)\n",
    "print(result)\n",
    "\n"
   ]
  },
  {
   "cell_type": "code",
   "execution_count": 4,
   "id": "94f966f9",
   "metadata": {},
   "outputs": [
    {
     "name": "stdout",
     "output_type": "stream",
     "text": [
      "Enter a string of even length: hi\n",
      "h\n"
     ]
    }
   ],
   "source": [
    "#Q8\n",
    "def mid(word):\n",
    "    \n",
    "    if len(word) % 2 == 0:\n",
    "        middle = len(word) // 2\n",
    "        firstHalf = word[ :middle]\n",
    "        print(firstHalf)\n",
    "    else:\n",
    "        print(\"You have entered an odd amount of characters\")\n",
    "        \n",
    "\n",
    "message = input(\"Enter a string of even length: \")\n",
    "mid(message)"
   ]
  },
  {
   "cell_type": "code",
   "execution_count": 5,
   "id": "606e189f",
   "metadata": {},
   "outputs": [
    {
     "name": "stdout",
     "output_type": "stream",
     "text": [
      "()\n",
      "PHP\n",
      "(PHP)\n"
     ]
    }
   ],
   "source": [
    "#Q9\n",
    "def insert_string_middle(original, to_insert):\n",
    "    print(original)\n",
    "    print(to_insert)\n",
    "    middle_index = len(original) // 2\n",
    "    result = original[:middle_index] + to_insert + original[middle_index:]\n",
    "    return result\n",
    "\n",
    "original_string = \"()\"\n",
    "inserted_string = \"PHP\"\n",
    "result = insert_string_middle(original_string, inserted_string)\n",
    "print(result)\n"
   ]
  },
  {
   "cell_type": "code",
   "execution_count": 10,
   "id": "8b536342",
   "metadata": {},
   "outputs": [
    {
     "name": "stdout",
     "output_type": "stream",
     "text": [
      "Enter a string: Hello there\n",
      "Enter a start index for removing characters: 2\n",
      "Enter a finishing index for removing characters: 6\n",
      "Hehere\n"
     ]
    }
   ],
   "source": [
    "#Q10\n",
    "def indiceRemove(word,x,y):\n",
    "    string = \"\"\n",
    "    for i in range (len(word)):\n",
    "        if i <x or i > y:\n",
    "            string+= word[i]\n",
    "    return string\n",
    "    \n",
    "message = input(\"Enter a string: \")\n",
    "x = int(input(\"Enter a start index for removing characters: \"))\n",
    "y = int(input(\"Enter a finishing index for removing characters: \"))\n",
    "result = indiceRemove(message,x,y)\n",
    "print(result)"
   ]
  },
  {
   "cell_type": "code",
   "execution_count": 13,
   "id": "55d15198",
   "metadata": {},
   "outputs": [
    {
     "name": "stdout",
     "output_type": "stream",
     "text": [
      "6\n"
     ]
    }
   ],
   "source": [
    "#Q11\n",
    "def sumList(list1):\n",
    "    total = 0\n",
    "    for i in list1:\n",
    "        total = total + i\n",
    "    print(total)\n",
    "\n",
    "list1 = [1,2,3]\n",
    "sumList(list1)"
   ]
  },
  {
   "cell_type": "code",
   "execution_count": 32,
   "id": "3a3110cc",
   "metadata": {},
   "outputs": [
    {
     "name": "stdout",
     "output_type": "stream",
     "text": [
      "3\n"
     ]
    }
   ],
   "source": [
    "#Q12\n",
    "def max(list1):\n",
    "    max = list1[0]\n",
    "    for i in list1:\n",
    "        if i > max:\n",
    "            max = i\n",
    "    print(max)\n",
    "\n",
    "list1 = [1,2,3]\n",
    "max(list1)"
   ]
  },
  {
   "cell_type": "code",
   "execution_count": 33,
   "id": "b063b02b",
   "metadata": {},
   "outputs": [
    {
     "name": "stdout",
     "output_type": "stream",
     "text": [
      "The number of words in the list beginning with o:  2\n"
     ]
    }
   ],
   "source": [
    "#Q13\n",
    "def oList(list1):\n",
    "    count = 0\n",
    "    for i in list1:\n",
    "        if i[:1] == 'o':\n",
    "            count+=1\n",
    "    print(\"The number of words in the list beginning with o: \",count)\n",
    "            \n",
    "\n",
    "list1 = ['over', 'Eye', 'object']\n",
    "oList(list1)"
   ]
  },
  {
   "cell_type": "code",
   "execution_count": 7,
   "id": "efb0e8e2",
   "metadata": {},
   "outputs": [
    {
     "name": "stdout",
     "output_type": "stream",
     "text": [
      "How many words would you like to enter into the list: 2\n",
      "Enter a word: hi\n",
      "Enter a word: hi\n",
      "Enter a character to see how many words in the list start with the character: h\n",
      "The number of words in the list beginning with h :  2\n"
     ]
    }
   ],
   "source": [
    "#Q14\n",
    "i = 0\n",
    "def numChar(list1, question):\n",
    "    count = 0\n",
    "    for i in list1:\n",
    "        if i[:1] == question:\n",
    "            count+=1\n",
    "    print(\"The number of words in the list beginning with\",question,\": \",count)\n",
    "            \n",
    "\n",
    "list1 = []\n",
    "num = int(input(\"How many words would you like to enter into the list: \"))\n",
    "while i < num:\n",
    "    word = input(\"Enter a word: \")\n",
    "    list1.append(word)\n",
    "    i+=1\n",
    "question = input(\"Enter a character to see how many words in the list start with that character: \")\n",
    "    \n",
    "\n",
    "\n",
    "numChar(list1,question)"
   ]
  },
  {
   "cell_type": "code",
   "execution_count": 23,
   "id": "44939b93",
   "metadata": {},
   "outputs": [
    {
     "name": "stdout",
     "output_type": "stream",
     "text": [
      "[2, 4, 6]\n"
     ]
    }
   ],
   "source": [
    "#Q15\n",
    "def evenNum(list1):\n",
    "    new = []\n",
    "    for i in list1:\n",
    "        if i % 2 == 0:\n",
    "            new.append(i)\n",
    "    return new\n",
    "\n",
    "list1 = [1,2,3,4,5,6]\n",
    "new = evenNum(list1)\n",
    "print(new)\n",
    "\n",
    "\n"
   ]
  },
  {
   "cell_type": "code",
   "execution_count": 25,
   "id": "eed480c3",
   "metadata": {},
   "outputs": [
    {
     "name": "stdout",
     "output_type": "stream",
     "text": [
      "Index: 0, Value: 0\n",
      "Index: 1, Value: 1\n",
      "Index: 2, Value: 2\n",
      "Index: 3, Value: 3\n",
      "Index: 4, Value: 4\n",
      "Index: 5, Value: 5\n",
      "Index: 6, Value: 6\n",
      "Index: 7, Value: 7\n",
      "Index: 8, Value: 8\n",
      "Index: 9, Value: 9\n",
      "Index: 10, Value: 10\n",
      "Index: 11, Value: 11\n",
      "Index: 12, Value: 12\n",
      "Index: 13, Value: 13\n",
      "Index: 14, Value: 14\n",
      "Index: 15, Value: 15\n",
      "Index: 16, Value: 16\n",
      "Index: 17, Value: 17\n",
      "Index: 18, Value: 18\n",
      "Index: 19, Value: 19\n",
      "Index: 20, Value: 20\n",
      "Index: 21, Value: 21\n",
      "Index: 22, Value: 22\n",
      "Index: 23, Value: 23\n",
      "Index: 24, Value: 24\n",
      "Index: 25, Value: 25\n",
      "Index: 26, Value: 26\n",
      "Index: 27, Value: 27\n",
      "Index: 28, Value: 28\n",
      "Index: 29, Value: 29\n",
      "Index: 30, Value: 30\n",
      "Index: 31, Value: 31\n",
      "Index: 32, Value: 32\n",
      "Index: 33, Value: 33\n",
      "Index: 34, Value: 34\n",
      "Index: 35, Value: 35\n",
      "Index: 36, Value: 36\n",
      "Index: 37, Value: 37\n",
      "Index: 38, Value: 38\n",
      "Index: 39, Value: 39\n",
      "Index: 40, Value: 40\n",
      "Index: 41, Value: 41\n",
      "Index: 42, Value: 42\n",
      "Index: 43, Value: 43\n",
      "Index: 44, Value: 44\n",
      "Index: 45, Value: 45\n",
      "Index: 46, Value: 46\n",
      "Index: 47, Value: 47\n",
      "Index: 48, Value: 48\n",
      "Index: 49, Value: 49\n",
      "Index: 50, Value: 50\n",
      "Index: 51, Value: 51\n",
      "Index: 52, Value: 52\n",
      "Index: 53, Value: 53\n",
      "Index: 54, Value: 54\n",
      "Index: 55, Value: 55\n",
      "Index: 56, Value: 56\n",
      "Index: 57, Value: 57\n",
      "Index: 58, Value: 58\n",
      "Index: 59, Value: 59\n",
      "Index: 60, Value: 60\n",
      "Index: 61, Value: 61\n",
      "Index: 62, Value: 62\n",
      "Index: 63, Value: 63\n",
      "Index: 64, Value: 64\n",
      "Index: 65, Value: 65\n",
      "Index: 66, Value: 66\n",
      "Index: 67, Value: 67\n",
      "Index: 68, Value: 68\n",
      "Index: 69, Value: 69\n",
      "Index: 70, Value: 70\n",
      "Index: 71, Value: 71\n",
      "Index: 72, Value: 72\n",
      "Index: 73, Value: 73\n",
      "Index: 74, Value: 74\n",
      "Index: 75, Value: 75\n",
      "Index: 76, Value: 76\n",
      "Index: 77, Value: 77\n",
      "Index: 78, Value: 78\n",
      "Index: 79, Value: 79\n",
      "Index: 80, Value: 80\n",
      "Index: 81, Value: 81\n",
      "Index: 82, Value: 82\n",
      "Index: 83, Value: 83\n",
      "Index: 84, Value: 84\n",
      "Index: 85, Value: 85\n",
      "Index: 86, Value: 86\n",
      "Index: 87, Value: 87\n",
      "Index: 88, Value: 88\n",
      "Index: 89, Value: 89\n",
      "Index: 90, Value: 90\n",
      "Index: 91, Value: 91\n",
      "Index: 92, Value: 92\n",
      "Index: 93, Value: 93\n",
      "Index: 94, Value: 94\n",
      "Index: 95, Value: 95\n",
      "Index: 96, Value: 96\n",
      "Index: 97, Value: 97\n",
      "Index: 98, Value: 98\n",
      "Index: 99, Value: 99\n",
      "Index: 100, Value: 100\n"
     ]
    }
   ],
   "source": [
    "#Q16\n",
    "def oneHundred():\n",
    "    list1 = []\n",
    "    for i in range(101):\n",
    "        list1.append(i)\n",
    "    return list1\n",
    "\n",
    "result = oneHundred()\n",
    "for i, value in enumerate(result):\n",
    "    print(f\"Index: {i}, Value: {value}\")\n",
    "\n",
    "\n"
   ]
  },
  {
   "cell_type": "code",
   "execution_count": 26,
   "id": "cede00f5",
   "metadata": {},
   "outputs": [
    {
     "name": "stdout",
     "output_type": "stream",
     "text": [
      "True\n",
      "False\n"
     ]
    }
   ],
   "source": [
    "#Q17\n",
    "a = [1,2,3]\n",
    "b=[1,2,3]\n",
    "print(a==b)\n",
    "print (a is b)"
   ]
  },
  {
   "cell_type": "code",
   "execution_count": 42,
   "id": "ba84f5cb",
   "metadata": {},
   "outputs": [
    {
     "name": "stdout",
     "output_type": "stream",
     "text": [
      "[1, 2, 3, 4]\n"
     ]
    }
   ],
   "source": [
    "#Q18\n",
    "def remove_duplicates(list1):\n",
    "    return list(set(list1))\n",
    "\n",
    "list1 = [1, 1, 2, 2, 3, 4]\n",
    "new_list = remove_duplicates(list1)\n",
    "print(new_list)\n"
   ]
  },
  {
   "cell_type": "code",
   "execution_count": 38,
   "id": "03428057",
   "metadata": {},
   "outputs": [
    {
     "name": "stdout",
     "output_type": "stream",
     "text": [
      "True\n"
     ]
    }
   ],
   "source": [
    "#Q19\n",
    "def common(list1, list2):\n",
    "    new_list = []\n",
    "    for i in list1:\n",
    "        for j in list2:\n",
    "            if i == j:\n",
    "                new_list.append(i)\n",
    "                return True\n",
    "\n",
    "list1 = [1, 2, 3]\n",
    "list2 = [1, 2, 4]\n",
    "common(list1, list2)\n"
   ]
  },
  {
   "cell_type": "code",
   "execution_count": 40,
   "id": "afd3070a",
   "metadata": {},
   "outputs": [
    {
     "name": "stdout",
     "output_type": "stream",
     "text": [
      "Sample list 1 minus sample list 2: [1, 2, 3, 4, 5]\n"
     ]
    }
   ],
   "source": [
    "#Q20\n",
    "def list_difference(list1, list2):\n",
    "    return [item for item in list1 if item not in list2]\n",
    "\n",
    "# Sample lists\n",
    "sample_list1 = [1, 2, 3, 4, 5, 6]\n",
    "sample_list2 = [10, 9, 8, 7, 6]\n",
    "\n",
    "# Calculate the difference\n",
    "result = list_difference(sample_list1, sample_list2)\n",
    "print(\"Sample list 1 minus sample list 2:\", result)"
   ]
  },
  {
   "cell_type": "code",
   "execution_count": 41,
   "id": "8bb33a8d",
   "metadata": {},
   "outputs": [
    {
     "name": "stdout",
     "output_type": "stream",
     "text": [
      "Sample list converted to a single integer: 113350\n"
     ]
    }
   ],
   "source": [
    "#Q21\n",
    "# Sample list\n",
    "sample_list = [11, 33, 50]\n",
    "\n",
    "# Convert the integers to strings and join them\n",
    "result = int(\"\".join(map(str, sample_list)))\n",
    "\n",
    "print(\"Sample list converted to a single integer:\", result)\n"
   ]
  },
  {
   "cell_type": "code",
   "execution_count": null,
   "id": "bcd4a9fa",
   "metadata": {},
   "outputs": [],
   "source": []
  }
 ],
 "metadata": {
  "kernelspec": {
   "display_name": "Python 3 (ipykernel)",
   "language": "python",
   "name": "python3"
  },
  "language_info": {
   "codemirror_mode": {
    "name": "ipython",
    "version": 3
   },
   "file_extension": ".py",
   "mimetype": "text/x-python",
   "name": "python",
   "nbconvert_exporter": "python",
   "pygments_lexer": "ipython3",
   "version": "3.9.12"
  }
 },
 "nbformat": 4,
 "nbformat_minor": 5
}
