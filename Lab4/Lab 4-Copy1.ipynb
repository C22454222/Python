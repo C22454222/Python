{
 "cells": [
  {
   "cell_type": "code",
   "execution_count": 1,
   "id": "490592b5",
   "metadata": {},
   "outputs": [
    {
     "name": "stdout",
     "output_type": "stream",
     "text": [
      "H \n",
      "\n",
      "e \n",
      "\n",
      "l \n",
      "\n",
      "l \n",
      "\n",
      "o \n",
      "\n",
      "  \n",
      "\n",
      "W \n",
      "\n",
      "o \n",
      "\n",
      "r \n",
      "\n",
      "l \n",
      "\n",
      "d \n",
      "\n"
     ]
    }
   ],
   "source": [
    "#Q1\n",
    "word = \"Hello World\"\n",
    "for i in(word):\n",
    "    print(i,\"\\n\")"
   ]
  },
  {
   "cell_type": "code",
   "execution_count": 2,
   "id": "5b1cec08",
   "metadata": {},
   "outputs": [
    {
     "name": "stdout",
     "output_type": "stream",
     "text": [
      "First character: M\n",
      "Last character: n\n",
      "Last character using len: n\n",
      "Monty\n"
     ]
    }
   ],
   "source": [
    "#Q2\n",
    "string = \"Monty Python\"\n",
    "\n",
    "# (a) Print the first character\n",
    "print(\"First character:\", string[0])\n",
    "\n",
    "# (b) Print the last character\n",
    "print(\"Last character:\", string[-1])\n",
    "\n",
    "# (c) Print the last character using len\n",
    "print(\"Last character using len:\", string[len(string) - 1])\n",
    "\n",
    "# (d) Print \"Monty\"\n",
    "print(string[:5])\n"
   ]
  },
  {
   "cell_type": "code",
   "execution_count": 3,
   "id": "395f3a98",
   "metadata": {},
   "outputs": [
    {
     "name": "stdout",
     "output_type": "stream",
     "text": [
      "Enter a string of odd length: ghj\n",
      "Middle character: h\n",
      "First half: g\n",
      "Second half: j\n"
     ]
    }
   ],
   "source": [
    "#Q3\n",
    "S = input(\"Enter a string of odd length: \")\n",
    "\n",
    "# (a) Print the middle character\n",
    "middle_char = S[len(S) // 2]\n",
    "print(\"Middle character:\", middle_char)\n",
    "\n",
    "# (b) Print the string up to but not including the middle character (first half)\n",
    "first_half = S[:len(S) // 2]\n",
    "print(\"First half:\", first_half)\n",
    "\n",
    "# (c) Print the string from the middle character to the end (not including the middle character)\n",
    "second_half = S[(len(S) // 2) + 1:]\n",
    "print(\"Second half:\", second_half)\n"
   ]
  },
  {
   "cell_type": "code",
   "execution_count": 4,
   "id": "2a54e6ff",
   "metadata": {},
   "outputs": [
    {
     "name": "stdout",
     "output_type": "stream",
     "text": [
      "Enter a string: dsf\n",
      "Reversed string: fsd\n"
     ]
    }
   ],
   "source": [
    "#Q4\n",
    "def reverse_string(input_string):\n",
    "    reversed_str = \"\"\n",
    "    for char in input_string:\n",
    "        reversed_str = char + reversed_str #Each character is pushed across\n",
    "    return reversed_str # Cat -> \"C\"-> \" AC\" -> \" TAC\"\n",
    "\n",
    "# Input string\n",
    "input_string = input(\"Enter a string: \")\n",
    "\n",
    "# Call the function to reverse the string\n",
    "reversed_string = reverse_string(input_string)\n",
    "\n",
    "# Display the reversed string\n",
    "print(\"Reversed string:\", reversed_string)\n",
    "\n"
   ]
  },
  {
   "cell_type": "code",
   "execution_count": 5,
   "id": "e9868947",
   "metadata": {},
   "outputs": [
    {
     "name": "stdout",
     "output_type": "stream",
     "text": [
      "Enter a string to be encrypted: thank you\n",
      "u\n",
      "i\n",
      "b\n",
      "o\n",
      "l\n",
      "!\n",
      "z\n",
      "p\n",
      "v\n"
     ]
    }
   ],
   "source": [
    "#Q5\n",
    "encrypt = input(\"Enter a string to be encrypted: \")\n",
    "for i in(encrypt):\n",
    "    convert1 = ord(i) + 1\n",
    "    convert2 = chr(convert1)\n",
    "    print(convert2)\n",
    "    \n"
   ]
  },
  {
   "cell_type": "code",
   "execution_count": 6,
   "id": "c0b21eed",
   "metadata": {},
   "outputs": [
    {
     "name": "stdout",
     "output_type": "stream",
     "text": [
      "Input a string: you\n",
      "The modified and corrected version of the string is you\n",
      "you is not a palindrome with uoy\n"
     ]
    }
   ],
   "source": [
    "#Q6\n",
    "import string\n",
    "\n",
    "original_str = input(\"Input a string: \")\n",
    "modified_str = original_str.lower()\n",
    "reversed_str = \"\"\n",
    "\n",
    "bad_chars = string.whitespace + string.punctuation\n",
    "\n",
    "for char in bad_chars:\n",
    "    modified_str = modified_str.replace(char, '')\n",
    "\n",
    "print(\"The modified and corrected version of the string is\",modified_str)\n",
    "for char in modified_str:\n",
    "    reversed_str = char + reversed_str\n",
    "if reversed_str == modified_str:\n",
    "    print(modified_str,\" is a palindrome with\",reversed_str)\n",
    "else:\n",
    "    print(modified_str,\"is not a palindrome with\",reversed_str)\n",
    "\n",
    "\n",
    "\n",
    "\n",
    "\n"
   ]
  },
  {
   "cell_type": "code",
   "execution_count": 9,
   "id": "6ff32856",
   "metadata": {},
   "outputs": [
    {
     "name": "stdout",
     "output_type": "stream",
     "text": [
      "Test your might. Type out every letter in the alphabet:abcdefghijklmnopqrstuvwxy\n",
      "Your final score is:  25 /26\n"
     ]
    }
   ],
   "source": [
    "#Q7\n",
    "some_string = input(\"Test your might. Type out every letter in the alphabet:\")\n",
    "count = 0\n",
    "for char in some_string:\n",
    "    if some_string.count(char) != 1:\n",
    "        print(\"You forgot the letter \",char)\n",
    "    else:\n",
    "        count+=1\n",
    "print(\"Your final score is: \",count,\"/26\")\n",
    "\n"
   ]
  },
  {
   "cell_type": "code",
   "execution_count": 3,
   "id": "c617a836",
   "metadata": {},
   "outputs": [
    {
     "name": "stdout",
     "output_type": "stream",
     "text": [
      "Olivia\n",
      "Ethan\n",
      "Natalie\n",
      "Liam\n",
      "Isabella\n",
      "Mason\n",
      "Ava\n",
      "Benjamin\n",
      "Mia\n",
      "Sophia\n",
      "William\n",
      "Emily\n",
      "Noah\n",
      "Madison\n",
      "Aiden\n",
      "Charlotte\n",
      "James\n",
      "Grace\n",
      "Logan\n",
      "Abigail\n",
      "\n",
      "Here is the list of people going to the party.\n",
      "\n",
      "How many people would you like to remove (0 to quit): 3\n",
      "Type out any name you would like to remove from the party list: Logan\n",
      "Logan has been removed from the party list.\n",
      "Type out any name you would like to remove from the party list: Grace\n",
      "Grace has been removed from the party list.\n",
      "Type out any name you would like to remove from the party list: James\n",
      "James has been removed from the party list.\n",
      "Updated party list:\n",
      "Olivia\n",
      "Ethan\n",
      "Natalie\n",
      "Liam\n",
      "Isabella\n",
      "Mason\n",
      "Ava\n",
      "Benjamin\n",
      "Mia\n",
      "Sophia\n",
      "William\n",
      "Emily\n",
      "Noah\n",
      "Madison\n",
      "Aiden\n",
      "Charlotte\n",
      "Abigail\n"
     ]
    },
    {
     "ename": "KeyboardInterrupt",
     "evalue": "Interrupted by user",
     "output_type": "error",
     "traceback": [
      "\u001b[1;31m---------------------------------------------------------------------------\u001b[0m",
      "\u001b[1;31mKeyboardInterrupt\u001b[0m                         Traceback (most recent call last)",
      "Input \u001b[1;32mIn [3]\u001b[0m, in \u001b[0;36m<cell line: 11>\u001b[1;34m()\u001b[0m\n\u001b[0;32m      8\u001b[0m \u001b[38;5;28mprint\u001b[39m(\u001b[38;5;124m\"\u001b[39m\u001b[38;5;130;01m\\n\u001b[39;00m\u001b[38;5;124mHere is the list of people going to the party.\u001b[39m\u001b[38;5;130;01m\\n\u001b[39;00m\u001b[38;5;124m\"\u001b[39m)\n\u001b[0;32m     10\u001b[0m \u001b[38;5;28;01mwhile\u001b[39;00m \u001b[38;5;28;01mTrue\u001b[39;00m:\n\u001b[1;32m---> 11\u001b[0m     number \u001b[38;5;241m=\u001b[39m \u001b[38;5;28mint\u001b[39m(\u001b[38;5;28;43minput\u001b[39;49m\u001b[43m(\u001b[49m\u001b[38;5;124;43m\"\u001b[39;49m\u001b[38;5;124;43mHow many people would you like to remove (0 to quit): \u001b[39;49m\u001b[38;5;124;43m\"\u001b[39;49m\u001b[43m)\u001b[49m)\n\u001b[0;32m     12\u001b[0m     \u001b[38;5;28;01mif\u001b[39;00m number \u001b[38;5;241m==\u001b[39m \u001b[38;5;241m0\u001b[39m:\n\u001b[0;32m     13\u001b[0m         \u001b[38;5;28;01mbreak\u001b[39;00m\n",
      "File \u001b[1;32m~\\anaconda3\\lib\\site-packages\\ipykernel\\kernelbase.py:1075\u001b[0m, in \u001b[0;36mKernel.raw_input\u001b[1;34m(self, prompt)\u001b[0m\n\u001b[0;32m   1071\u001b[0m \u001b[38;5;28;01mif\u001b[39;00m \u001b[38;5;129;01mnot\u001b[39;00m \u001b[38;5;28mself\u001b[39m\u001b[38;5;241m.\u001b[39m_allow_stdin:\n\u001b[0;32m   1072\u001b[0m     \u001b[38;5;28;01mraise\u001b[39;00m StdinNotImplementedError(\n\u001b[0;32m   1073\u001b[0m         \u001b[38;5;124m\"\u001b[39m\u001b[38;5;124mraw_input was called, but this frontend does not support input requests.\u001b[39m\u001b[38;5;124m\"\u001b[39m\n\u001b[0;32m   1074\u001b[0m     )\n\u001b[1;32m-> 1075\u001b[0m \u001b[38;5;28;01mreturn\u001b[39;00m \u001b[38;5;28;43mself\u001b[39;49m\u001b[38;5;241;43m.\u001b[39;49m\u001b[43m_input_request\u001b[49m\u001b[43m(\u001b[49m\n\u001b[0;32m   1076\u001b[0m \u001b[43m    \u001b[49m\u001b[38;5;28;43mstr\u001b[39;49m\u001b[43m(\u001b[49m\u001b[43mprompt\u001b[49m\u001b[43m)\u001b[49m\u001b[43m,\u001b[49m\n\u001b[0;32m   1077\u001b[0m \u001b[43m    \u001b[49m\u001b[38;5;28;43mself\u001b[39;49m\u001b[38;5;241;43m.\u001b[39;49m\u001b[43m_parent_ident\u001b[49m\u001b[43m[\u001b[49m\u001b[38;5;124;43m\"\u001b[39;49m\u001b[38;5;124;43mshell\u001b[39;49m\u001b[38;5;124;43m\"\u001b[39;49m\u001b[43m]\u001b[49m\u001b[43m,\u001b[49m\n\u001b[0;32m   1078\u001b[0m \u001b[43m    \u001b[49m\u001b[38;5;28;43mself\u001b[39;49m\u001b[38;5;241;43m.\u001b[39;49m\u001b[43mget_parent\u001b[49m\u001b[43m(\u001b[49m\u001b[38;5;124;43m\"\u001b[39;49m\u001b[38;5;124;43mshell\u001b[39;49m\u001b[38;5;124;43m\"\u001b[39;49m\u001b[43m)\u001b[49m\u001b[43m,\u001b[49m\n\u001b[0;32m   1079\u001b[0m \u001b[43m    \u001b[49m\u001b[43mpassword\u001b[49m\u001b[38;5;241;43m=\u001b[39;49m\u001b[38;5;28;43;01mFalse\u001b[39;49;00m\u001b[43m,\u001b[49m\n\u001b[0;32m   1080\u001b[0m \u001b[43m\u001b[49m\u001b[43m)\u001b[49m\n",
      "File \u001b[1;32m~\\anaconda3\\lib\\site-packages\\ipykernel\\kernelbase.py:1120\u001b[0m, in \u001b[0;36mKernel._input_request\u001b[1;34m(self, prompt, ident, parent, password)\u001b[0m\n\u001b[0;32m   1117\u001b[0m             \u001b[38;5;28;01mbreak\u001b[39;00m\n\u001b[0;32m   1118\u001b[0m \u001b[38;5;28;01mexcept\u001b[39;00m \u001b[38;5;167;01mKeyboardInterrupt\u001b[39;00m:\n\u001b[0;32m   1119\u001b[0m     \u001b[38;5;66;03m# re-raise KeyboardInterrupt, to truncate traceback\u001b[39;00m\n\u001b[1;32m-> 1120\u001b[0m     \u001b[38;5;28;01mraise\u001b[39;00m \u001b[38;5;167;01mKeyboardInterrupt\u001b[39;00m(\u001b[38;5;124m\"\u001b[39m\u001b[38;5;124mInterrupted by user\u001b[39m\u001b[38;5;124m\"\u001b[39m) \u001b[38;5;28;01mfrom\u001b[39;00m \u001b[38;5;28mNone\u001b[39m\n\u001b[0;32m   1121\u001b[0m \u001b[38;5;28;01mexcept\u001b[39;00m \u001b[38;5;167;01mException\u001b[39;00m:\n\u001b[0;32m   1122\u001b[0m     \u001b[38;5;28mself\u001b[39m\u001b[38;5;241m.\u001b[39mlog\u001b[38;5;241m.\u001b[39mwarning(\u001b[38;5;124m\"\u001b[39m\u001b[38;5;124mInvalid Message:\u001b[39m\u001b[38;5;124m\"\u001b[39m, exc_info\u001b[38;5;241m=\u001b[39m\u001b[38;5;28;01mTrue\u001b[39;00m)\n",
      "\u001b[1;31mKeyboardInterrupt\u001b[0m: Interrupted by user"
     ]
    }
   ],
   "source": [
    "#Q8\n",
    "party = [\"Olivia\", \"Ethan\", \"Natalie\", \"Liam\", \"Isabella\", \"Mason\", \"Ava\", \"Benjamin\", \"Mia\", \"Sophia\", \"William\",\n",
    "         \"Emily\", \"Noah\", \"Madison\", \"Aiden\", \"Charlotte\", \"James\", \"Grace\", \"Logan\", \"Abigail\"]\n",
    "\n",
    "for name in party:\n",
    "    print(name)\n",
    "\n",
    "print(\"\\nHere is the list of people going to the party.\\n\")\n",
    "\n",
    "while True:\n",
    "    number = int(input(\"How many people would you like to remove (0 to quit): \"))\n",
    "    if number == 0:\n",
    "        break\n",
    "    \n",
    "    for i in range(number):\n",
    "        name_to_remove = input(\"Type out any name you would like to remove from the party list: \").strip()\n",
    "        \n",
    "        # Check if the entered name is in the party list before attempting to remove it\n",
    "        if name_to_remove in party:\n",
    "            party.remove(name_to_remove)\n",
    "            print(f\"{name_to_remove} has been removed from the party list.\")\n",
    "        else:\n",
    "            print(f\"{name_to_remove} is not in the party list.\")\n",
    "\n",
    "    # Print the updated party list\n",
    "    print(\"Updated party list:\")\n",
    "    for name in party:\n",
    "        print(name)\n",
    "\n"
   ]
  },
  {
   "cell_type": "code",
   "execution_count": 5,
   "id": "57ab7403",
   "metadata": {},
   "outputs": [
    {
     "name": "stdout",
     "output_type": "stream",
     "text": [
      "################################################################################\n",
      "\n",
      "##############################\n",
      "##############################\n",
      "##############################\n",
      "##############################\n",
      "##############################\n",
      "##############################\n",
      "##############################\n",
      "##############################\n",
      "##############################\n",
      "##############################\n",
      "\n"
     ]
    }
   ],
   "source": [
    "#9\n",
    "line = '#' * 80\n",
    "print(line)\n",
    "print()\n",
    "\n",
    "column = '#' * 30 + '\\n'  # Create a string of 30 '#' characters with a newline at the end\n",
    "print(column * 10)  # Print the column 10 times (adjust the number as needed)\n"
   ]
  },
  {
   "cell_type": "code",
   "execution_count": 6,
   "id": "3c6ec095",
   "metadata": {},
   "outputs": [
    {
     "name": "stdout",
     "output_type": "stream",
     "text": [
      "Name      Melting Point (deg C)    Boiling Point (deg C)    \n",
      "Methane   -162                     -183                     \n",
      "Ethane    -89                      -172                     \n",
      "Propane   -42                      -188                     \n",
      "Butane    -0.5                     -135                     \n"
     ]
    }
   ],
   "source": [
    "#Q10\n",
    "# Define the data\n",
    "data = [\n",
    "    (\"Methane\", -162, -183),\n",
    "    (\"Ethane\", -89, -172),\n",
    "    (\"Propane\", -42, -188),\n",
    "    (\"Butane\", -0.5, -135)\n",
    "]\n",
    "\n",
    "# Print the table header\n",
    "print(f\"{'Name':<10}{'Melting Point (deg C)':<25}{'Boiling Point (deg C)':<25}\")\n",
    "\n",
    "# Print the data rows\n",
    "for row in data:\n",
    "    name, melting_point, boiling_point = row\n",
    "    print(f\"{name:<10}{melting_point:<25}{boiling_point:<25}\")\n"
   ]
  },
  {
   "cell_type": "code",
   "execution_count": null,
   "id": "29705c0a",
   "metadata": {},
   "outputs": [
    {
     "name": "stdout",
     "output_type": "stream",
     "text": [
      "Enter an English word to translate into Pig Latin (or '.' to quit): is\n",
      "Translated word: isway\n",
      "Enter an English word to translate into Pig Latin (or '.' to quit): hi\n",
      "Translated word: ihay\n"
     ]
    }
   ],
   "source": [
    "#Q11\n",
    "# Main program loop\n",
    "while True:\n",
    "    # Prompt the user for input\n",
    "    word = input(\"Enter an English word to translate into Pig Latin (or '.' to quit): \").strip()\n",
    "    \n",
    "    # Check if the user wants to quit\n",
    "    if word == '.':\n",
    "        break\n",
    "    \n",
    "    # Check if the word starts with a vowel\n",
    "    if word[0] in 'aeiouAEIOU':\n",
    "        translated_word = word + 'way'\n",
    "    else:\n",
    "        for i in range(len(word)):\n",
    "            if word[i] in 'aeiouAEIOU':\n",
    "                translated_word = word[i:] + word[:i] + 'ay'\n",
    "                break\n",
    "        else:\n",
    "            translated_word = word + 'ay'\n",
    "    \n",
    "    # Print the translated word\n",
    "    print(\"Translated word:\", translated_word)\n"
   ]
  },
  {
   "cell_type": "code",
   "execution_count": null,
   "id": "3bce0fb6",
   "metadata": {},
   "outputs": [],
   "source": []
  }
 ],
 "metadata": {
  "kernelspec": {
   "display_name": "Python 3 (ipykernel)",
   "language": "python",
   "name": "python3"
  },
  "language_info": {
   "codemirror_mode": {
    "name": "ipython",
    "version": 3
   },
   "file_extension": ".py",
   "mimetype": "text/x-python",
   "name": "python",
   "nbconvert_exporter": "python",
   "pygments_lexer": "ipython3",
   "version": "3.9.12"
  }
 },
 "nbformat": 4,
 "nbformat_minor": 5
}
