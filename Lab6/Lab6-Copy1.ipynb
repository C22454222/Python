{
 "cells": [
  {
   "cell_type": "code",
   "execution_count": 6,
   "id": "86d04479",
   "metadata": {},
   "outputs": [
    {
     "name": "stdout",
     "output_type": "stream",
     "text": [
      "Input a floating-point number: 1/\n",
      "Invalid input. Please enter a correctly formatted floating-point number.\n",
      "Input a floating-point number: 1/6\n",
      "Invalid input. Please enter a correctly formatted floating-point number.\n",
      "Input a floating-point number: 89\n",
      "Number is 89.0\n"
     ]
    }
   ],
   "source": [
    "#Q1\n",
    "while True:\n",
    "    number_str = input(\"Input a floating-point number: \")\n",
    "    try:\n",
    "        number_float = float(number_str)\n",
    "        print(\"Number is\", number_float)\n",
    "        break  # Exit the loop if a valid float is provided\n",
    "    except ValueError:\n",
    "        print(\"Invalid input. Please enter a correctly formatted floating-point number.\")\n"
   ]
  },
  {
   "cell_type": "code",
   "execution_count": 9,
   "id": "e59c249e",
   "metadata": {},
   "outputs": [
    {
     "name": "stdout",
     "output_type": "stream",
     "text": [
      "Enter your name: 2\n",
      "Enter your age: d\n",
      "Invalid input. Please enter a valid int.\n",
      "Enter your age: d\n",
      "Invalid input. Please enter a valid int.\n",
      "Enter your age: 2.3\n",
      "Invalid input. Please enter a valid int.\n",
      "Enter your age: 2\n",
      "Enter your height (in meters): 1\n",
      "Name: 2\n",
      "Age: 2\n",
      "Height: 1.0 meters\n"
     ]
    }
   ],
   "source": [
    "#Q2\n",
    "def safe_input(prompt=\"\", input_type=str):\n",
    "    while True:\n",
    "        user_input = input(prompt)\n",
    "        try:\n",
    "            if input_type is int:\n",
    "                return int(user_input)\n",
    "            elif input_type is float:\n",
    "                return float(user_input)\n",
    "            elif input_type is str:\n",
    "                return user_input\n",
    "            else:\n",
    "                print(\"Invalid input type. Please specify int, float, or str as the input type.\")\n",
    "        except ValueError:\n",
    "            print(f\"Invalid input. Please enter a valid {input_type.__name__}.\")\n",
    "\n",
    "# Example usage:\n",
    "if __name__ == \"__main__\":\n",
    "    user_name = safe_input(\"Enter your name: \")\n",
    "    user_age = safe_input(\"Enter your age: \", int)\n",
    "    user_height = safe_input(\"Enter your height (in meters): \", float)\n",
    "\n",
    "    print(f\"Name: {user_name}\")\n",
    "    print(f\"Age: {user_age}\")\n",
    "    print(f\"Height: {user_height} meters\")\n"
   ]
  },
  {
   "cell_type": "code",
   "execution_count": 13,
   "id": "d775bc87",
   "metadata": {},
   "outputs": [
    {
     "name": "stdout",
     "output_type": "stream",
     "text": [
      "Enter a number: 1\n",
      "Enter another number: 2\n",
      "Enter one more number: 3.5\n",
      "Invalid input. Please enter all 3 numbers as correctly formatted integer numbers.\n",
      "Enter a number: 1\n",
      "Enter another number: 1\n",
      "Enter one more number: 1\n",
      "The sum of n3 and (n1 + n2) is: 3\n"
     ]
    }
   ],
   "source": [
    "#Q4\n",
    "while True:\n",
    "    try:\n",
    "        n1 = int(input(\"Enter a number: \"))\n",
    "        n2 = int(input(\"Enter another number: \"))\n",
    "        n3 = int(input(\"Enter one more number: \"))\n",
    "        \n",
    "        n3 = n3 + (n1 + n2)\n",
    "        print(\"The sum of n3 and (n1 + n2) is:\", n3)\n",
    "        break\n",
    "    \n",
    "    except (ValueError, ZeroDivisionError):\n",
    "        print(\"Invalid input. Please enter all 3 numbers as correctly formatted integer numbers.\")\n",
    "\n"
   ]
  },
  {
   "cell_type": "code",
   "execution_count": null,
   "id": "53abb1b4",
   "metadata": {},
   "outputs": [],
   "source": []
  }
 ],
 "metadata": {
  "kernelspec": {
   "display_name": "Python 3 (ipykernel)",
   "language": "python",
   "name": "python3"
  },
  "language_info": {
   "codemirror_mode": {
    "name": "ipython",
    "version": 3
   },
   "file_extension": ".py",
   "mimetype": "text/x-python",
   "name": "python",
   "nbconvert_exporter": "python",
   "pygments_lexer": "ipython3",
   "version": "3.9.12"
  }
 },
 "nbformat": 4,
 "nbformat_minor": 5
}
