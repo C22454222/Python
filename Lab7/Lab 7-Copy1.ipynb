{
 "cells": [
  {
   "cell_type": "code",
   "execution_count": 1,
   "id": "bd94d46c",
   "metadata": {},
   "outputs": [
    {
     "name": "stdout",
     "output_type": "stream",
     "text": [
      "['bye', 'mother', 'dad', ['nanna', 'grandpa']]\n",
      "['bye', 'mother', 'dad', ['nanna', 'grandpa']]\n",
      "['hi', 'mom', 'father', ['nanna', 'grandpa']]\n"
     ]
    }
   ],
   "source": [
    "#Q1\n",
    "str_list = ['hi', 'mom', 'dad', ['grandma', 'grandpa']]\n",
    "new_list = str_list\n",
    "copy_list = str_list[:]\n",
    "\n",
    "str_list[0] = 'bye'\n",
    "new_list[1] = 'mother'\n",
    "copy_list[2] = 'father'\n",
    "copy_list[-1][0] = 'nanna'\n",
    "\n",
    "print(str_list) # Line 1\n",
    "print(new_list) # Line 2\n",
    "print(copy_list) # Line 3"
   ]
  },
  {
   "cell_type": "code",
   "execution_count": 3,
   "id": "3c11a230",
   "metadata": {},
   "outputs": [
    {
     "name": "stdout",
     "output_type": "stream",
     "text": [
      "[1, 2, 10, 4, 5]\n"
     ]
    }
   ],
   "source": [
    "#Q2\n",
    "ListA = [1,2,3,4,5]\n",
    "ListB = ListA\n",
    "ListA[2] = 10\n",
    "print(ListB)"
   ]
  },
  {
   "cell_type": "code",
   "execution_count": 6,
   "id": "c375a74d",
   "metadata": {},
   "outputs": [
    {
     "name": "stdout",
     "output_type": "stream",
     "text": [
      "[1, 2, 99]\n"
     ]
    }
   ],
   "source": [
    "#Q3\n",
    "list1 = [1,2,99]\n",
    "list2 = list1\n",
    "list3 = list1[:] #(b)\n",
    "list1 = list1.remove(1)\n",
    "\n",
    "print(list3)\n",
    "\n",
    "#(a) What is printed?\n",
    "#(b) How can you change the code so list3 is unchanged?\n"
   ]
  },
  {
   "cell_type": "code",
   "execution_count": 8,
   "id": "c32d8a77",
   "metadata": {},
   "outputs": [
    {
     "name": "stdout",
     "output_type": "stream",
     "text": [
      "1234\n"
     ]
    }
   ],
   "source": [
    "#Q4\n",
    "L = [1,2,3,4]\n",
    "L_str = ''.join(map(str,L))\n",
    "print(L_str)"
   ]
  },
  {
   "cell_type": "code",
   "execution_count": 12,
   "id": "b120e4c5",
   "metadata": {
    "scrolled": true
   },
   "outputs": [
    {
     "name": "stdout",
     "output_type": "stream",
     "text": [
      "Addition Result: 5/4\n",
      "Multiplication Result: 5/9\n"
     ]
    }
   ],
   "source": [
    "#Q5\n",
    "from fractions import Fraction\n",
    "\n",
    "# Function to add two fractions\n",
    "def add_fractions(fraction1, fraction2):\n",
    "    result = Fraction(fraction1[0], fraction1[1]) + Fraction(fraction2[0], fraction2[1])\n",
    "    return result\n",
    "\n",
    "# Function to multiply two fractions\n",
    "def multiply_fractions(fraction1, fraction2):\n",
    "    result = Fraction(fraction1[0], fraction1[1]) * Fraction(fraction2[0], fraction2[1])\n",
    "    return result\n",
    "\n",
    "# Testing the functions\n",
    "fraction1 = (1, 2)\n",
    "fraction2 = (3, 4)\n",
    "result_add = add_fractions(fraction1, fraction2)\n",
    "print(f\"Addition Result: {result_add}\")\n",
    "\n",
    "fraction3 = (2, 3)\n",
    "fraction4 = (5, 6)\n",
    "result_multiply = multiply_fractions(fraction3, fraction4)\n",
    "print(f\"Multiplication Result: {result_multiply}\")\n",
    "\n",
    "\n",
    "\n",
    "    "
   ]
  },
  {
   "cell_type": "code",
   "execution_count": 15,
   "id": "289d0919",
   "metadata": {},
   "outputs": [
    {
     "name": "stdout",
     "output_type": "stream",
     "text": [
      "[('item3', '24.5'), ('item2', '15.10'), ('item1', '12.20')]\n"
     ]
    }
   ],
   "source": [
    "#Q6\n",
    "# Sample data\n",
    "data = [('item1', '12.20'), ('item2', '15.10'), ('item3', '24.5')]\n",
    "\n",
    "# Define a custom function to get the float value from a tuple\n",
    "def get_float_value(item):\n",
    "    return float(item[1])\n",
    "\n",
    "# Sort the data using the custom function as the sorting key\n",
    "sorted_data = sorted(data, key=get_float_value, reverse=True)\n",
    "\n",
    "# Print the sorted data\n",
    "print(sorted_data)\n",
    "\n",
    "\n",
    "    \n",
    "    \n",
    "    \n"
   ]
  },
  {
   "cell_type": "code",
   "execution_count": 27,
   "id": "2bdcbfc2",
   "metadata": {},
   "outputs": [
    {
     "name": "stdout",
     "output_type": "stream",
     "text": [
      "[1, 4, 9, 16, 25, 36, 49, 64, 81, 100]\n",
      "\n",
      "['RED', 'BLUE', 'GREEN', 'BLACK', 'WHITE']\n",
      "\n",
      "[7, 14, 21, 28, 35, 42, 49, 56, 63, 70, 77, 84, 91, 98, 105, 112, 119, 126, 133, 140, 147, 154, 161, 168, 175, 182, 189, 196, 203, 210, 217, 224, 231, 238, 245, 252, 259, 266, 273, 280, 287, 294, 301, 308, 315, 322, 329, 336, 343, 350, 357, 364, 371, 378, 385, 392, 399, 406, 413, 420, 427, 434, 441, 448, 455, 462, 469, 476, 483, 490, 497, 504, 511, 518, 525, 532, 539, 546, 553, 560, 567, 574, 581, 588, 595, 602, 609, 616, 623, 630, 637, 644, 651, 658, 665, 672, 679, 686, 693, 700, 707, 714, 721, 728, 735, 742, 749, 756, 763, 770, 777, 784, 791, 798, 805, 812, 819, 826, 833, 840, 847, 854, 861, 868, 875, 882, 889, 896, 903, 910, 917, 924, 931, 938, 945, 952, 959, 966, 973, 980, 987, 994]\n",
      "\n",
      "[3, 13, 23, 30, 31, 32, 33, 34, 35, 36, 37, 38, 39, 43, 53, 63, 73, 83, 93, 103, 113, 123, 130, 131, 132, 133, 134, 135, 136, 137, 138, 139, 143, 153, 163, 173, 183, 193, 203, 213, 223, 230, 231, 232, 233, 234, 235, 236, 237, 238, 239, 243, 253, 263, 273, 283, 293, 300, 301, 302, 303, 304, 305, 306, 307, 308, 309, 310, 311, 312, 313, 314, 315, 316, 317, 318, 319, 320, 321, 322, 323, 324, 325, 326, 327, 328, 329, 330, 331, 332, 333, 334, 335, 336, 337, 338, 339, 340, 341, 342, 343, 344, 345, 346, 347, 348, 349, 350, 351, 352, 353, 354, 355, 356, 357, 358, 359, 360, 361, 362, 363, 364, 365, 366, 367, 368, 369, 370, 371, 372, 373, 374, 375, 376, 377, 378, 379, 380, 381, 382, 383, 384, 385, 386, 387, 388, 389, 390, 391, 392, 393, 394, 395, 396, 397, 398, 399, 403, 413, 423, 430, 431, 432, 433, 434, 435, 436, 437, 438, 439, 443, 453, 463, 473, 483, 493, 503, 513, 523, 530, 531, 532, 533, 534, 535, 536, 537, 538, 539, 543, 553, 563, 573, 583, 593, 603, 613, 623, 630, 631, 632, 633, 634, 635, 636, 637, 638, 639, 643, 653, 663, 673, 683, 693, 703, 713, 723, 730, 731, 732, 733, 734, 735, 736, 737, 738, 739, 743, 753, 763, 773, 783, 793, 803, 813, 823, 830, 831, 832, 833, 834, 835, 836, 837, 838, 839, 843, 853, 863, 873, 883, 893, 903, 913, 923, 930, 931, 932, 933, 934, 935, 936, 937, 938, 939, 943, 953, 963, 973, 983, 993]\n",
      "\n",
      "1\n",
      "\n",
      "Hll, Wrld!\n",
      "\n",
      "['One', 'Two']\n",
      "\n",
      "[2, 3, 4, 5, 6, 7, 8, 9, 10, 12, 14, 15, 16, 18, 20, 21, 22, 24, 25, 26, 27, 28, 30, 32, 33, 34, 35, 36, 38, 39, 40, 42, 44, 45, 46, 48, 49, 50, 51, 52, 54, 55, 56, 57, 58, 60, 62, 63, 64, 65, 66, 68, 69, 70, 72, 74, 75, 76, 77, 78, 80, 81, 82, 84, 85, 86, 87, 88, 90, 91, 92, 93, 94, 95, 96, 98, 99, 100, 102, 104, 105, 106, 108, 110, 111, 112, 114, 115, 116, 117, 118, 119, 120, 122, 123, 124, 125, 126, 128, 129, 130, 132, 133, 134, 135, 136, 138, 140, 141, 142, 144, 145, 146, 147, 148, 150, 152, 153, 154, 155, 156, 158, 159, 160, 161, 162, 164, 165, 166, 168, 170, 171, 172, 174, 175, 176, 177, 178, 180, 182, 183, 184, 185, 186, 188, 189, 190, 192, 194, 195, 196, 198, 200, 201, 202, 203, 204, 205, 206, 207, 208, 210, 212, 213, 214, 215, 216, 217, 218, 219, 220, 222, 224, 225, 226, 228, 230, 231, 232, 234, 235, 236, 237, 238, 240, 242, 243, 244, 245, 246, 248, 249, 250, 252, 254, 255, 256, 258, 259, 260, 261, 262, 264, 265, 266, 267, 268, 270, 272, 273, 274, 275, 276, 278, 279, 280, 282, 284, 285, 286, 287, 288, 290, 291, 292, 294, 295, 296, 297, 298, 300, 301, 302, 303, 304, 305, 306, 308, 309, 310, 312, 314, 315, 316, 318, 320, 321, 322, 324, 325, 326, 327, 328, 329, 330, 332, 333, 334, 335, 336, 338, 339, 340, 342, 343, 344, 345, 346, 348, 350, 351, 352, 354, 355, 356, 357, 358, 360, 362, 363, 364, 365, 366, 368, 369, 370, 371, 372, 374, 375, 376, 378, 380, 381, 382, 384, 385, 386, 387, 388, 390, 392, 393, 394, 395, 396, 398, 399, 400, 402, 404, 405, 406, 408, 410, 411, 412, 413, 414, 415, 416, 417, 418, 420, 422, 423, 424, 425, 426, 427, 428, 429, 430, 432, 434, 435, 436, 438, 440, 441, 442, 444, 445, 446, 447, 448, 450, 452, 453, 454, 455, 456, 458, 459, 460, 462, 464, 465, 466, 468, 469, 470, 471, 472, 474, 475, 476, 477, 478, 480, 482, 483, 484, 485, 486, 488, 489, 490, 492, 494, 495, 496, 497, 498, 500, 501, 502, 504, 505, 506, 507, 508, 510, 511, 512, 513, 514, 515, 516, 518, 519, 520, 522, 524, 525, 526, 528, 530, 531, 532, 534, 535, 536, 537, 538, 539, 540, 542, 543, 544, 545, 546, 548, 549, 550, 552, 553, 554, 555, 556, 558, 560, 561, 562, 564, 565, 566, 567, 568, 570, 572, 573, 574, 575, 576, 578, 579, 580, 581, 582, 584, 585, 586, 588, 590, 591, 592, 594, 595, 596, 597, 598, 600, 602, 603, 604, 605, 606, 608, 609, 610, 612, 614, 615, 616, 618, 620, 621, 622, 623, 624, 625, 626, 627, 628, 630, 632, 633, 634, 635, 636, 637, 638, 639, 640, 642, 644, 645, 646, 648, 650, 651, 652, 654, 655, 656, 657, 658, 660, 662, 663, 664, 665, 666, 668, 669, 670, 672, 674, 675, 676, 678, 679, 680, 681, 682, 684, 685, 686, 687, 688, 690, 692, 693, 694, 695, 696, 698, 699, 700, 702, 704, 705, 706, 707, 708, 710, 711, 712, 714, 715, 716, 717, 718, 720, 721, 722, 723, 724, 725, 726, 728, 729, 730, 732, 734, 735, 736, 738, 740, 741, 742, 744, 745, 746, 747, 748, 749, 750, 752, 753, 754, 755, 756, 758, 759, 760, 762, 763, 764, 765, 766, 768, 770, 771, 772, 774, 775, 776, 777, 778, 780, 782, 783, 784, 785, 786, 788, 789, 790, 791, 792, 794, 795, 796, 798, 800, 801, 802, 804, 805, 806, 807, 808, 810, 812, 813, 814, 815, 816, 818, 819, 820, 822, 824, 825, 826, 828, 830, 831, 832, 833, 834, 835, 836, 837, 838, 840, 842, 843, 844, 845, 846, 847, 848, 849, 850, 852, 854, 855, 856, 858, 860, 861, 862, 864, 865, 866, 867, 868, 870, 872, 873, 874, 875, 876, 878, 879, 880, 882, 884, 885, 886, 888, 889, 890, 891, 892, 894, 895, 896, 897, 898, 900, 902, 903, 904, 905, 906, 908, 909, 910, 912, 914, 915, 916, 917, 918, 920, 921, 922, 924, 925, 926, 927, 928, 930, 931, 932, 933, 934, 935, 936, 938, 939, 940, 942, 944, 945, 946, 948, 950, 951, 952, 954, 955, 956, 957, 958, 959, 960, 962, 963, 964, 965, 966, 968, 969, 970, 972, 973, 974, 975, 976, 978, 980, 981, 982, 984, 985, 986, 987, 988, 990, 992, 993, 994, 995, 996, 998, 999, 1000]\n",
      "\n"
     ]
    }
   ],
   "source": [
    "#Q7\n",
    "#(a)\n",
    "squares = [x**2 for x in range(1, 11)]  # Squares of numbers from 1 to 10\n",
    "print(squares)\n",
    "print()\n",
    "#(b)\n",
    "colors = ['Red', 'Blue', 'Green', 'Black', 'White']\n",
    "upper_case_colors = [color.upper() for color in colors]\n",
    "print(upper_case_colors)\n",
    "print()\n",
    "#(c)\n",
    "divisible_by_seven = [x for x in range(1, 1001) if x % 7 == 0]\n",
    "print(divisible_by_seven)\n",
    "print()\n",
    "#(d)\n",
    "number_three = [x for x in range(1,1001) if '3' in str(x)]\n",
    "print(number_three)\n",
    "print()\n",
    "#(e)\n",
    "text = \"Hi there\"\n",
    "space_count = sum(1 for char in text if char == ' ')\n",
    "print(space_count)\n",
    "print()\n",
    "#(f)\n",
    "text = \"Hello, World!\"\n",
    "text_without_vowels = ''.join([char for char in text if char.lower() not in 'aeiou'])\n",
    "print(text_without_vowels)\n",
    "print()\n",
    "#(g)\n",
    "text = \"One Two Three Four Five\"\n",
    "short_words = [word for word in text.split() if len(word) < 4]\n",
    "print(short_words)\n",
    "print()\n",
    "#(h)\n",
    "divisible_by_single_digit = [x for x in range(1, 1001) if any(x % i == 0 for i in range(2, 10))]\n",
    "print(divisible_by_single_digit)\n",
    "print()\n",
    "\n"
   ]
  },
  {
   "cell_type": "code",
   "execution_count": 28,
   "id": "e508b63d",
   "metadata": {},
   "outputs": [
    {
     "name": "stdout",
     "output_type": "stream",
     "text": [
      "Keys: ['a', 'c', 'b']\n",
      "Values: [15, 35, 20]\n",
      "Key-Value Pairs: [('a', 15), ('c', 35), ('b', 20)]\n",
      "Key-Value Pairs Sorted by Key: [('a', 15), ('b', 20), ('c', 35)]\n",
      "Key-Value Pairs Sorted by Value: [('a', 15), ('b', 20), ('c', 35)]\n"
     ]
    }
   ],
   "source": [
    "#Q8\n",
    "my_dict = {'a': 15, 'c': 35, 'b': 20}\n",
    "\n",
    "# (a) Print all the keys\n",
    "print(\"Keys:\", list(my_dict.keys()))\n",
    "\n",
    "# (b) Print all the values\n",
    "print(\"Values:\", list(my_dict.values()))\n",
    "\n",
    "# (c) Print all the keys and values pairs\n",
    "print(\"Key-Value Pairs:\", list(my_dict.items()))\n",
    "\n",
    "# (d) Print all the keys and values pairs in order of key\n",
    "sorted_pairs_by_key = sorted(my_dict.items())\n",
    "print(\"Key-Value Pairs Sorted by Key:\", sorted_pairs_by_key)\n",
    "\n",
    "# (e) Print all the keys and values pairs in order of value\n",
    "sorted_pairs_by_value = sorted(my_dict.items(), key=lambda item: item[1])\n",
    "print(\"Key-Value Pairs Sorted by Value:\", sorted_pairs_by_value)\n",
    "\n",
    "\n"
   ]
  },
  {
   "cell_type": "code",
   "execution_count": 29,
   "id": "62957019",
   "metadata": {},
   "outputs": [
    {
     "name": "stdout",
     "output_type": "stream",
     "text": [
      "Combined Dictionary: {'a': 400, 'b': 400, 'c': 300, 'd': 400}\n"
     ]
    }
   ],
   "source": [
    "#Q9\n",
    "d1 = {'a': 100, 'b': 200, 'c': 300}\n",
    "d2 = {'a': 300, 'b': 200, 'd': 400}\n",
    "\n",
    "# Create a new dictionary to store the combined values\n",
    "combined_dict = {}\n",
    "\n",
    "# Add values from the first dictionary\n",
    "for key, value in d1.items():\n",
    "    combined_dict[key] = combined_dict.get(key, 0) + value\n",
    "\n",
    "# Add values from the second dictionary\n",
    "for key, value in d2.items():\n",
    "    combined_dict[key] = combined_dict.get(key, 0) + value\n",
    "\n",
    "print(\"Combined Dictionary:\", combined_dict)\n"
   ]
  },
  {
   "cell_type": "code",
   "execution_count": null,
   "id": "215e2713",
   "metadata": {},
   "outputs": [],
   "source": []
  }
 ],
 "metadata": {
  "kernelspec": {
   "display_name": "Python 3 (ipykernel)",
   "language": "python",
   "name": "python3"
  },
  "language_info": {
   "codemirror_mode": {
    "name": "ipython",
    "version": 3
   },
   "file_extension": ".py",
   "mimetype": "text/x-python",
   "name": "python",
   "nbconvert_exporter": "python",
   "pygments_lexer": "ipython3",
   "version": "3.9.12"
  }
 },
 "nbformat": 4,
 "nbformat_minor": 5
}
